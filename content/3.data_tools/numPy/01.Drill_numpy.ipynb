{
 "cells": [
  {
   "cell_type": "markdown",
   "metadata": {},
   "source": [
    "# Numpy exercises\n",
    "\n",
    "This is a collection of exercises that have been collected in the numpy mailing list, on stack overflow\n",
    "and in the numpy documentation. The goal of this collection is to offer a quick reference for both old\n",
    "and new users but also to provide a set of exercises for those who teach.\n",
    "\n",
    "In this notebook, you will find 30 exercises that are essential to practice and learn numpy. If you want to do further exploration, you can continue working on `02.Extra_Drill_numpy.ipynb`."
   ]
  },
  {
   "cell_type": "markdown",
   "metadata": {},
   "source": [
    "#### 1. Import the numpy package under the name `np` (★☆☆)"
   ]
  },
  {
   "cell_type": "code",
   "execution_count": 2,
   "metadata": {},
   "outputs": [],
   "source": [
    "import numpy as np\n"
   ]
  },
  {
   "cell_type": "markdown",
   "metadata": {},
   "source": [
    "#### 2. Print the numpy version and the configuration (★☆☆)"
   ]
  },
  {
   "cell_type": "code",
   "execution_count": 3,
   "metadata": {},
   "outputs": [
    {
     "name": "stdout",
     "output_type": "stream",
     "text": [
      "1.20.1\n"
     ]
    }
   ],
   "source": [
    "print(np.__version__)"
   ]
  },
  {
   "cell_type": "markdown",
   "metadata": {},
   "source": [
    "#### 3. Create a null vector of size 10 (★☆☆)"
   ]
  },
  {
   "cell_type": "code",
   "execution_count": 6,
   "metadata": {},
   "outputs": [
    {
     "name": "stdout",
     "output_type": "stream",
     "text": [
      "[0. 0. 0. 0. 0. 0. 0. 0. 0. 0.]\n"
     ]
    }
   ],
   "source": [
    "a = np.zeros(10)\n",
    "print(a)"
   ]
  },
  {
   "cell_type": "markdown",
   "metadata": {},
   "source": [
    "#### 4. How to find the memory size of any array (★☆☆)"
   ]
  },
  {
   "cell_type": "code",
   "execution_count": 10,
   "metadata": {},
   "outputs": [
    {
     "name": "stdout",
     "output_type": "stream",
     "text": [
      "Size of the array:  10\n",
      "Memory size of one array in bytes:  8\n",
      "Memory size of a numpy array in bytes:  80\n",
      "Memory size of a NumPy array:  80\n"
     ]
    }
   ],
   "source": [
    "\"\"\"\n",
    "There are two methods:\n",
    "1). using size and itemsize\n",
    "size: This attribute gives the number of elements present in the NumPy array.\n",
    "\n",
    "itemsize: This attribute gives the memory size of one element of NumPy array in bytes.\n",
    "\n",
    "\"\"\"\n",
    "a.size\n",
    "\n",
    "print(\"Size of the array: \", a.size)\n",
    "\n",
    "a.itemsize\n",
    "print(\"Memory size of one array in bytes: \", a.itemsize)\n",
    "\n",
    "print(\"Memory size of a numpy array in bytes: \", a.size * a.itemsize)\n",
    "\n",
    "\"\"\"\n",
    "2)Method 2: Using nbytes attribute of NumPy array.\n",
    "\n",
    "nbytes: This attribute gives the total bytes consumed by the elements of the NumPy array.\n",
    "\n",
    "\"\"\"\n",
    "\n",
    "print(\"Memory size of a NumPy array: \", a.nbytes)"
   ]
  },
  {
   "cell_type": "markdown",
   "metadata": {},
   "source": [
    "#### 5. How to get the documentation of the numpy add function from the command line? (★☆☆)"
   ]
  },
  {
   "cell_type": "code",
   "execution_count": null,
   "metadata": {},
   "outputs": [],
   "source": [
    "python -c \"import numpy; numpy.info(numpy.add)\"????"
   ]
  },
  {
   "cell_type": "markdown",
   "metadata": {},
   "source": [
    "#### 6. Create a null vector of size 10 but the fifth value which is 1 (★☆☆)"
   ]
  },
  {
   "cell_type": "code",
   "execution_count": 11,
   "metadata": {},
   "outputs": [
    {
     "name": "stdout",
     "output_type": "stream",
     "text": [
      "[0. 0. 0. 0. 1. 0. 0. 0. 0. 0.]\n"
     ]
    }
   ],
   "source": [
    "a = np.zeros(10)\n",
    "a[4]= 1\n",
    "print(a)"
   ]
  },
  {
   "cell_type": "markdown",
   "metadata": {},
   "source": [
    "#### 7. Create a vector with values ranging from 10 to 49 (★☆☆)"
   ]
  },
  {
   "cell_type": "code",
   "execution_count": 12,
   "metadata": {},
   "outputs": [
    {
     "name": "stdout",
     "output_type": "stream",
     "text": [
      "[10 11 12 13 14 15 16 17 18 19 20 21 22 23 24 25 26 27 28 29 30 31 32 33\n",
      " 34 35 36 37 38 39 40 41 42 43 44 45 46 47 48 49]\n"
     ]
    }
   ],
   "source": [
    "a = np.arange(10, 50)\n",
    "print(a)"
   ]
  },
  {
   "cell_type": "markdown",
   "metadata": {},
   "source": [
    "#### 8. Reverse a vector (first element becomes last) (★☆☆)"
   ]
  },
  {
   "cell_type": "code",
   "execution_count": 15,
   "metadata": {},
   "outputs": [
    {
     "name": "stdout",
     "output_type": "stream",
     "text": [
      "[49 48 47 46 45 44 43 42 41 40 39 38 37 36 35 34 33 32 31 30 29 28 27 26\n",
      " 25 24 23 22 21 20 19 18 17 16 15 14 13 12 11 10]\n"
     ]
    }
   ],
   "source": [
    "a = a[::-1]\n",
    "print(a)"
   ]
  },
  {
   "cell_type": "markdown",
   "metadata": {},
   "source": [
    "#### 9. Create a 3x3 matrix with values ranging from 0 to 8 (★☆☆)"
   ]
  },
  {
   "cell_type": "code",
   "execution_count": 17,
   "metadata": {},
   "outputs": [
    {
     "name": "stdout",
     "output_type": "stream",
     "text": [
      "[[0 1 2]\n",
      " [3 4 5]\n",
      " [6 7 8]]\n"
     ]
    }
   ],
   "source": [
    "b = np.arange(0,9).reshape(3,3)\n",
    "print(b)"
   ]
  },
  {
   "cell_type": "markdown",
   "metadata": {},
   "source": [
    "#### 10. Find indices of non-zero elements from [1,2,0,0,4,0] (★☆☆)"
   ]
  },
  {
   "cell_type": "code",
   "execution_count": 19,
   "metadata": {},
   "outputs": [
    {
     "name": "stdout",
     "output_type": "stream",
     "text": [
      "(array([0, 1, 4], dtype=int64),)\n"
     ]
    }
   ],
   "source": [
    "\"\"\"\n",
    "Ma solution \n",
    "c = np.array([1, 2, 0, 0, 4])\n",
    "for x in c:\n",
    "    if x > 0:\n",
    "        print([x])\n",
    "[1]\n",
    "[2]\n",
    "[4]    \n",
    "        \"\"\"\n",
    "\"\"\" meilleure solution nonzero\"\"\"\n",
    "\n",
    "c = np.nonzero([1, 2, 0, 0, 4])\n",
    "print(c)"
   ]
  },
  {
   "cell_type": "markdown",
   "metadata": {},
   "source": [
    "#### 11. Create a 3x3 identity matrix (★☆☆)"
   ]
  },
  {
   "cell_type": "code",
   "execution_count": 21,
   "metadata": {},
   "outputs": [
    {
     "name": "stdout",
     "output_type": "stream",
     "text": [
      "[[1. 0. 0.]\n",
      " [0. 1. 0.]\n",
      " [0. 0. 1.]]\n"
     ]
    }
   ],
   "source": [
    "#np.eye identity matrix\n",
    "d = np.eye(3)\n",
    "print(d)"
   ]
  },
  {
   "cell_type": "markdown",
   "metadata": {},
   "source": [
    "#### 12. Create a 3x3x3 array with random values (★☆☆)"
   ]
  },
  {
   "cell_type": "code",
   "execution_count": 23,
   "metadata": {},
   "outputs": [
    {
     "name": "stdout",
     "output_type": "stream",
     "text": [
      "[[0.88618291 0.61692082 0.08533161]\n",
      " [0.53023679 0.35365396 0.63581839]\n",
      " [0.89346973 0.76264569 0.64640362]]\n"
     ]
    }
   ],
   "source": [
    "#np.random.random\n",
    "\n",
    "e = np.random.random((3,3))\n",
    "print(e)"
   ]
  },
  {
   "cell_type": "markdown",
   "metadata": {},
   "source": [
    "#### 13. Create a 10x10 array with random values and find the minimum and maximum values (★☆☆)"
   ]
  },
  {
   "cell_type": "code",
   "execution_count": 28,
   "metadata": {},
   "outputs": [
    {
     "name": "stdout",
     "output_type": "stream",
     "text": [
      "[[0.33487799 0.75192409 0.91311079 0.52872268 0.46214078 0.99329606\n",
      "  0.75378114 0.35935358 0.96590479 0.72525167]\n",
      " [0.18504741 0.76132295 0.22564997 0.19673529 0.56079404 0.13578157\n",
      "  0.87673864 0.73968337 0.97797201 0.58710686]\n",
      " [0.95027768 0.49007557 0.51639422 0.26509562 0.57101768 0.05411428\n",
      "  0.47574764 0.14578057 0.57259445 0.32763826]\n",
      " [0.6386857  0.89037621 0.89832087 0.94467915 0.77890808 0.68230632\n",
      "  0.86907469 0.54119857 0.79326954 0.74095766]\n",
      " [0.29220909 0.58691699 0.25105259 0.70545122 0.92736446 0.50134545\n",
      "  0.64199597 0.80430858 0.62687559 0.92826995]\n",
      " [0.76889604 0.36873523 0.66341349 0.75428948 0.85062603 0.03932297\n",
      "  0.21672395 0.6828918  0.41126961 0.64629196]\n",
      " [0.37997377 0.60852488 0.8474753  0.21912233 0.98099165 0.34395237\n",
      "  0.51846495 0.52844449 0.16557125 0.97012377]\n",
      " [0.48396231 0.30837624 0.14364421 0.84900195 0.2986967  0.56375451\n",
      "  0.65100283 0.79905663 0.00214928 0.40259306]\n",
      " [0.43132295 0.95209111 0.5235039  0.08807643 0.95840161 0.11158855\n",
      "  0.2054782  0.59703249 0.11499944 0.53124212]\n",
      " [0.85965207 0.99468508 0.42484546 0.67339425 0.55940312 0.98549608\n",
      "  0.76045416 0.95961785 0.02246313 0.20378397]]\n",
      "min(f) =  0.0021492770206361644\n",
      "max(f) =  0.9946850803752905\n",
      "min = 0.0021492770206361644\n",
      "max = 0.9946850803752905\n"
     ]
    }
   ],
   "source": [
    "# 1st method\n",
    "f = np.random.random((10, 10))\n",
    "print(f)\n",
    "print(\"min(f) = \", f.min())\n",
    "print(\"max(f) = \", f.max())\n",
    "\n",
    "#2nd method\n",
    "for func in (f.min, f.max):\n",
    "    print(func.__name__, \"=\", func())"
   ]
  },
  {
   "cell_type": "markdown",
   "metadata": {},
   "source": [
    "#### 14. Create a random vector of size 30 and find the mean value (★☆☆)"
   ]
  },
  {
   "cell_type": "code",
   "execution_count": 29,
   "metadata": {},
   "outputs": [
    {
     "name": "stdout",
     "output_type": "stream",
     "text": [
      "0.5091461266200256\n"
     ]
    }
   ],
   "source": [
    "g = np.random.random((3,10))\n",
    "\n",
    "print(g.mean())"
   ]
  },
  {
   "cell_type": "markdown",
   "metadata": {},
   "source": [
    "#### 15. Create a 2d array with 1 on the border and 0 inside (★☆☆)"
   ]
  },
  {
   "cell_type": "code",
   "execution_count": 30,
   "metadata": {},
   "outputs": [
    {
     "name": "stdout",
     "output_type": "stream",
     "text": [
      "[[1. 1. 1. 1. 1. 1. 1. 1. 1. 1.]\n",
      " [1. 0. 0. 0. 0. 0. 0. 0. 0. 1.]\n",
      " [1. 1. 1. 1. 1. 1. 1. 1. 1. 1.]]\n"
     ]
    }
   ],
   "source": [
    "h = np.ones((3, 10))\n",
    "h[1:-1,1:-1]=0\n",
    "print(h)"
   ]
  },
  {
   "cell_type": "markdown",
   "metadata": {},
   "source": [
    "#### 16. How to add a border (filled with 0's) around an existing array? (★☆☆)"
   ]
  },
  {
   "cell_type": "code",
   "execution_count": 34,
   "metadata": {},
   "outputs": [
    {
     "name": "stdout",
     "output_type": "stream",
     "text": [
      "[[0 0 0 0 0]\n",
      " [0 0 1 2 0]\n",
      " [0 3 4 5 0]\n",
      " [0 6 7 8 0]\n",
      " [0 0 0 0 0]]\n"
     ]
    }
   ],
   "source": [
    "\"\"\"\n",
    "numpy.pad(array, pad_width, mode='constant', **kwargs) \n",
    "\n",
    "# importing Numpy package\n",
    "import numpy as np\n",
    "  \n",
    "# Creating a 3X3 Numpy matrix\n",
    "array = np.ones((3, 3))\n",
    "  \n",
    "print(\"Original array\")\n",
    "print(array)\n",
    "  \n",
    "print(\"\\n0 on the border and 1 inside the array\")\n",
    "  \n",
    "# constructing border of 0 around 3D identity matrix\n",
    "# using np.pad()\n",
    "array = np.pad(array, pad_width=1, mode='constant',\n",
    "               constant_values=0)\n",
    "  \n",
    "print(array)\n",
    "\"\"\"\n",
    "b = np.pad(b,pad_width = 1, mode ='constant', constant_values = 0)\n",
    "\n",
    "print(b)"
   ]
  },
  {
   "cell_type": "markdown",
   "metadata": {},
   "source": [
    "#### 17. What is the result of the following expression? (★☆☆)\n",
    "```python\n",
    "0 * np.nan\n",
    "np.nan == np.nan\n",
    "np.inf > np.nan\n",
    "np.nan - np.nan\n",
    "np.nan in set([np.nan])\n",
    "0.3 == 3 * 0.1\n",
    "```"
   ]
  },
  {
   "cell_type": "code",
   "execution_count": 3,
   "metadata": {},
   "outputs": [
    {
     "name": "stdout",
     "output_type": "stream",
     "text": [
      "nan\n",
      "False\n",
      "False\n",
      "nan\n",
      "True\n",
      "False\n"
     ]
    }
   ],
   "source": [
    "import numpy as np   #?????????????????????????????????????????????????????????? I don't understand the results \n",
    "\n",
    "print(0 * np.nan)\n",
    "print(np.nan == np.nan)\n",
    "print(np.inf > np.nan)\n",
    "print(np.nan - np.nan)\n",
    "print(np.nan in set([np.nan]))\n",
    "print(0.3 == 3 * 0.1)\n"
   ]
  },
  {
   "cell_type": "markdown",
   "metadata": {},
   "source": [
    "#### 18. Create a 5x5 matrix with values 1,2,3,4 just below the diagonal (★☆☆)"
   ]
  },
  {
   "cell_type": "code",
   "execution_count": 4,
   "metadata": {},
   "outputs": [
    {
     "name": "stdout",
     "output_type": "stream",
     "text": [
      "[[0 0 0 0 0]\n",
      " [1 0 0 0 0]\n",
      " [0 2 0 0 0]\n",
      " [0 0 3 0 0]\n",
      " [0 0 0 4 0]]\n"
     ]
    }
   ],
   "source": [
    "i = np.diag(1 + np.arange(4), k= -1)\n",
    "print(i)\n",
    "\n",
    "\"\"\"\n",
    "numpy.diag(v, k=0)\n",
    "Extract a diagonal or construct a diagonal array.\n",
    "if you use this function to extract a diagonal and wish to write to the resulting array;\n",
    "whether it returns a copy or a view depends on what version of numpy you are using.\n",
    "Parameters\n",
    "varray_like\n",
    "If v is a 2-D array, return a copy of its k-th diagonal.\n",
    "If v is a 1-D array, return a 2-D array with v on the k-th diagonal.\n",
    "\n",
    "kint, optional\n",
    "Diagonal in question. The default is 0. Use k>0 for diagonals above the main diagonal,\n",
    "and k<0 for diagonals below the main diagonal.\n",
    "\n",
    "x = np.arange(9).reshape((3,3))\n",
    "x\n",
    "array([[0, 1, 2],\n",
    "       [3, 4, 5],\n",
    "       [6, 7, 8]])\n",
    "       \n",
    "np.diag(x)\n",
    "array([0, 4, 8])\n",
    "np.diag(x, k=1)\n",
    "array([1, 5])\n",
    "np.diag(x, k=-1)\n",
    "array([3, 7])\n",
    "\n",
    "np.diag(np.diag(x))\n",
    "array([[0, 0, 0],\n",
    "       [0, 4, 0],\n",
    "       [0, 0, 8]])\n",
    "\n",
    "See the more detailed documentation for numpy.diagonal\n",
    "\n",
    "i = np.diag(2 + np.arange(4), k= -1)\n",
    "print(i)\n",
    "[[0 0 0 0 0]\n",
    " [2 0 0 0 0]\n",
    " [0 3 0 0 0]\n",
    " [0 0 4 0 0]\n",
    " [0 0 0 5 0]]\n",
    "i = np.diag(2 + np.arange(4), k= -2)\n",
    "print(i)\n",
    "[[0 0 0 0 0 0]\n",
    " [0 0 0 0 0 0]\n",
    " [2 0 0 0 0 0]\n",
    " [0 3 0 0 0 0]\n",
    " [0 0 4 0 0 0]\n",
    " [0 0 0 5 0 0]]\n",
    "i = np.diag(np.arange(5), k= -1)\n",
    "print(i)\n",
    "[[0 0 0 0 0 0]\n",
    " [0 0 0 0 0 0]\n",
    " [0 1 0 0 0 0]\n",
    " [0 0 2 0 0 0]\n",
    " [0 0 0 3 0 0]\n",
    " [0 0 0 0 4 0]]\n",
    "i = np.diag(np.arange(4), k= -1)\n",
    "print(i)\n",
    "[[0 0 0 0 0]\n",
    " [0 0 0 0 0]\n",
    " [0 1 0 0 0]\n",
    " [0 0 2 0 0]\n",
    " [0 0 0 3 0]]\n",
    "\n",
    "\"\"\"\n"
   ]
  },
  {
   "cell_type": "markdown",
   "metadata": {},
   "source": [
    "#### 19. Create a 8x8 matrix and fill it with a checkerboard pattern (★☆☆)"
   ]
  },
  {
   "cell_type": "code",
   "execution_count": 7,
   "metadata": {},
   "outputs": [
    {
     "name": "stdout",
     "output_type": "stream",
     "text": [
      "[[0 1 0 1 0 1 0 1 0 1]\n",
      " [1 0 1 0 1 0 1 0 1 0]\n",
      " [0 1 0 1 0 1 0 1 0 1]\n",
      " [1 0 1 0 1 0 1 0 1 0]\n",
      " [0 1 0 1 0 1 0 1 0 1]\n",
      " [1 0 1 0 1 0 1 0 1 0]\n",
      " [0 1 0 1 0 1 0 1 0 1]\n",
      " [1 0 1 0 1 0 1 0 1 0]\n",
      " [0 1 0 1 0 1 0 1 0 1]\n",
      " [1 0 1 0 1 0 1 0 1 0]]\n"
     ]
    }
   ],
   "source": [
    "J = np.zeros((10,10),dtype=int)\n",
    "J[1::2,::2] = 1\n",
    "J[::2,1::2] = 1\n",
    "print(J)\n",
    "\n",
    "\"\"\"\n",
    "or other method = same result\n",
    "\n",
    "Z = np.tile( np.array([[0,1],[1,0]]), (4,4))\n",
    "print(Z)\n",
    "\n",
    "\n",
    "\"\"\""
   ]
  },
  {
   "cell_type": "markdown",
   "metadata": {},
   "source": [
    "#### 20. Consider a (6,7,8) shape array, what is the index (x,y,z) of the 100th element?"
   ]
  },
  {
   "cell_type": "code",
   "execution_count": 9,
   "metadata": {},
   "outputs": [
    {
     "name": "stdout",
     "output_type": "stream",
     "text": [
      "(1, 5, 4)\n"
     ]
    }
   ],
   "source": [
    "a = np.array((6, 7, 8))\n",
    "\n",
    "\n",
    "print(np.unravel_index(100,(6,7,8)))\n",
    "\n",
    "\"\"\"\n",
    "np.unravel_index(index, shape, order='C') order is optional\n",
    "Converts a flat index or array of flat indice into a tuple of coordinate arrays.\n",
    "\n",
    "Parameters\n",
    "indicesarray_like\n",
    "An integer array whose elements are indices into the flattened version of an array of dimensions shape.\n",
    "Before version 1.6.0, this function accepted just one index value.\n",
    "\n",
    "shapetuple of ints\n",
    "The shape of the array to use for unraveling indices.\n",
    "\n",
    "Changed in version 1.16.0: Renamed from dims to shape.\n",
    "\n",
    "order{‘C’, ‘F’}, optional\n",
    "Determines whether the indices should be viewed as indexing in row-major (C-style) or column-major (Fortran-style) order.\n",
    "\n",
    "New in version 1.6.0.\n",
    "\n",
    "Returns\n",
    "unraveled_coordstuple of ndarray\n",
    "Each array in the tuple has the same shape as the indices array.\n",
    "\n",
    "\"\"\""
   ]
  },
  {
   "cell_type": "markdown",
   "metadata": {},
   "source": [
    "#### 21. Create a checkerboard 8x8 matrix using the tile function (★☆☆)"
   ]
  },
  {
   "cell_type": "code",
   "execution_count": 10,
   "metadata": {},
   "outputs": [
    {
     "name": "stdout",
     "output_type": "stream",
     "text": [
      "[[0 1 0 1 0 1 0 1]\n",
      " [1 0 1 0 1 0 1 0]\n",
      " [0 1 0 1 0 1 0 1]\n",
      " [1 0 1 0 1 0 1 0]\n",
      " [0 1 0 1 0 1 0 1]\n",
      " [1 0 1 0 1 0 1 0]\n",
      " [0 1 0 1 0 1 0 1]\n",
      " [1 0 1 0 1 0 1 0]]\n"
     ]
    }
   ],
   "source": [
    "K = np.tile( np.array([[0,1],[1,0]]), (4,4))\n",
    "print(K)\n",
    "\n",
    "\"\"\"\n",
    "np.tile(A, reps)\n",
    "Construct an array by repeating A the number of times given by reps.\n",
    "\"\"\""
   ]
  },
  {
   "cell_type": "markdown",
   "metadata": {},
   "source": [
    "#### 22. Normalize a 5x5 random matrix (★☆☆)"
   ]
  },
  {
   "cell_type": "code",
   "execution_count": 18,
   "metadata": {},
   "outputs": [
    {
     "name": "stdout",
     "output_type": "stream",
     "text": [
      "[[0.78843678 0.24080756 0.78708352 0.78761067 0.68281527]\n",
      " [0.34007069 0.95204818 0.52629425 0.4038969  0.40589891]\n",
      " [0.70232861 0.61089745 0.78962569 0.9123735  0.404611  ]\n",
      " [0.49750386 0.97797121 0.11134041 0.58385108 0.1479821 ]\n",
      " [0.38223048 0.93991615 0.90754928 0.27321393 0.98454765]]\n",
      "\n",
      "\n",
      "[[-0.22458686 -0.85173376 -0.22613662 -0.22553292 -0.34554499]\n",
      " [-0.73805728 -0.03721851 -0.52479341 -0.66496328 -0.66267057]\n",
      " [-0.32319824 -0.42790552 -0.22322531 -0.08265409 -0.66414549]\n",
      " [-0.55776425 -0.00753137 -1.         -0.45887912 -0.95803781]\n",
      " [-0.68977575 -0.05111215 -0.08817881 -0.81462188  0.        ]]\n",
      "\n",
      "\n",
      "[[ 0.68029199 -1.35770908  0.67525582  0.67721762  0.28722173]\n",
      " [-0.98830154  1.2891715  -0.29527094 -0.75077245 -0.74332197]\n",
      " [ 0.3598406   0.01957973  0.68471651  1.14152226 -0.74811491]\n",
      " [-0.40241429  1.385644   -1.83952085 -0.08107331 -1.70315888]\n",
      " [-0.83140399  1.24402219  1.12356892 -1.23710887  1.41011822]]\n"
     ]
    }
   ],
   "source": [
    "L = np.random.random((5,5))\n",
    "print(L)\n",
    "\n",
    "print(\"\\n\")\n",
    "Lmax, Lmin = L.max(), L.min()\n",
    "L= (L-Lmax)/(Lmax-Lmin)\n",
    "print(L)\n",
    "\n",
    "print(\"\\n\")\n",
    "#other method\n",
    "\n",
    "L = (L - np.mean (L)) / (np.std (L))\n",
    "print(L)"
   ]
  },
  {
   "cell_type": "markdown",
   "metadata": {},
   "source": [
    "#### 23. Create a custom dtype that describes a color as four unsigned bytes (RGBA) (★☆☆)"
   ]
  },
  {
   "cell_type": "code",
   "execution_count": 24,
   "metadata": {},
   "outputs": [
    {
     "ename": "NameError",
     "evalue": "name 'dt' is not defined",
     "output_type": "error",
     "traceback": [
      "\u001b[1;31m---------------------------------------------------------------------------\u001b[0m",
      "\u001b[1;31mNameError\u001b[0m                                 Traceback (most recent call last)",
      "\u001b[1;32m<ipython-input-24-984fb3437018>\u001b[0m in \u001b[0;36m<module>\u001b[1;34m\u001b[0m\n\u001b[0;32m      3\u001b[0m \u001b[1;33m\u001b[0m\u001b[0m\n\u001b[0;32m      4\u001b[0m \u001b[1;31m#data type of object with field grades\u001b[0m\u001b[1;33m\u001b[0m\u001b[1;33m\u001b[0m\u001b[1;33m\u001b[0m\u001b[0m\n\u001b[1;32m----> 5\u001b[1;33m \u001b[0mprint\u001b[0m\u001b[1;33m(\u001b[0m\u001b[0mdt\u001b[0m\u001b[1;33m[\u001b[0m\u001b[1;34m'grades'\u001b[0m\u001b[1;33m]\u001b[0m\u001b[1;33m)\u001b[0m\u001b[1;33m\u001b[0m\u001b[1;33m\u001b[0m\u001b[0m\n\u001b[0m\u001b[0;32m      6\u001b[0m \u001b[1;33m\u001b[0m\u001b[0m\n\u001b[0;32m      7\u001b[0m \u001b[1;31m#data type of object with field name\u001b[0m\u001b[1;33m\u001b[0m\u001b[1;33m\u001b[0m\u001b[1;33m\u001b[0m\u001b[0m\n",
      "\u001b[1;31mNameError\u001b[0m: name 'dt' is not defined"
     ]
    }
   ],
   "source": [
    "#Maarten solution\n",
    "\n",
    "\n",
    "M = np.dtype([('name', np.unicode_, 16), ('grades', np.float64, (2,))])\n",
    "rgba = np.dtype([ ('r', np.ubyte), (\"g\", np.ubyte), (\"b\", np.ubyte), (\"a\", np.ubyte)])\n",
    "\n",
    "#data type of object with field grades\n",
    "print(dt['grades'])\n",
    "\n",
    "#data type of object with field name\n",
    "print(dt['name'])\n",
    "\n",
    "x = np.array([('Sarah', (8.0, 7.0)), ('John',(6.0, 7.0))], dtype = dt)\n",
    "color = np.array([((10), (15), (50), (20))], dtype = rgba)\n",
    "\n",
    "print(x[1])\n",
    "print(color)\n",
    "\n",
    "\n",
    "\"\"\"color = np.dtype([(\"r\", np.ubyte, 1),\n",
    "                  (\"g\", np.ubyte, 1),\n",
    "                  (\"b\", np.ubyte, 1),\n",
    "                  (\"a\", np.ubyte, 1)])\n",
    "                  \"\"\""
   ]
  },
  {
   "cell_type": "markdown",
   "metadata": {},
   "source": [
    "#### 24. Multiply a 5x3 matrix by a 3x2 matrix (real matrix product) (★☆☆)"
   ]
  },
  {
   "cell_type": "code",
   "execution_count": 31,
   "metadata": {},
   "outputs": [
    {
     "name": "stdout",
     "output_type": "stream",
     "text": [
      "(5, 3) (3, 2)\n",
      "[[ 22  28]\n",
      " [ 49  64]\n",
      " [ 76 100]\n",
      " [103 136]\n",
      " [130 172]]\n",
      "\n",
      "\n",
      "[[3. 3.]\n",
      " [3. 3.]\n",
      " [3. 3.]\n",
      " [3. 3.]\n",
      " [3. 3.]]\n"
     ]
    }
   ],
   "source": [
    "N = np.array([[1, 2, 3], [4, 5, 6], [7, 8, 9], [10, 11, 12], [13, 14, 15]])\n",
    "\n",
    "O = np.array([[1, 2], [3, 4], [5, 6]])\n",
    "\n",
    "print(N.shape, O.shape)\n",
    "\n",
    "P = N.dot(O)\n",
    "print(P)\n",
    "\n",
    "#or other method\n",
    "print(\"\\n\")\n",
    "Z = np.dot(np.ones((5,3)), np.ones((3,2)))\n",
    "print(Z)\n",
    "\n",
    "# Alternative solution, in Python 3.5 and above\n",
    "#Z = np.ones((5,3)) @ np.ones((3,2))"
   ]
  },
  {
   "cell_type": "markdown",
   "metadata": {},
   "source": [
    "#### 25. Given a 1D array, negate all elements which are between 3 and 8, in place. (★☆☆)"
   ]
  },
  {
   "cell_type": "code",
   "execution_count": 34,
   "metadata": {},
   "outputs": [
    {
     "name": "stdout",
     "output_type": "stream",
     "text": [
      "[ 0  1  2 -3 -4 -5 -6 -7  8  9 10]\n"
     ]
    }
   ],
   "source": [
    "Q = np.arange(11)\n",
    "\n",
    "Q[(2 < Q) & (Q <= 7)] *= -1\n",
    "print(Q)"
   ]
  },
  {
   "cell_type": "markdown",
   "metadata": {},
   "source": [
    "#### 26. What is the output of the following script? (★☆☆)\n",
    "```python\n",
    "# Author: Jake VanderPlas\n",
    "\n",
    "print(sum(range(5),-1))\n",
    "from numpy import *\n",
    "print(sum(range(5),-1))\n",
    "```"
   ]
  },
  {
   "cell_type": "code",
   "execution_count": null,
   "metadata": {},
   "outputs": [],
   "source": [
    "9\n",
    "10"
   ]
  },
  {
   "cell_type": "markdown",
   "metadata": {},
   "source": [
    "#### 27. Consider an integer vector Z, which of these expressions are legal? (★☆☆)\n",
    "```python\n",
    "Z**Z\n",
    "2 << Z >> 2\n",
    "Z <- Z\n",
    "1j*Z\n",
    "Z/1/1\n",
    "Z<Z>Z\n",
    "```"
   ]
  },
  {
   "cell_type": "code",
   "execution_count": null,
   "metadata": {},
   "outputs": [],
   "source": [
    "Z = np.arange(3)\n",
    "Z ** Z       # = [0^0, 1^1, 2^2] = [1, 1, 4]\n",
    "2 << Z >> 2  # = [0, 1, 2]\n",
    "Z < - Z      # = [False, False, False]\n",
    "1j * Z       # = [0 + 0.j, 0 + 1.j, 0 + 2.j]\n",
    "Z / 1 / 1    # = [0, 1, 2]\n",
    "Z < Z > Z    # ValueError"
   ]
  },
  {
   "cell_type": "markdown",
   "metadata": {},
   "source": [
    "#### 28. What are the result of the following expressions?\n",
    "```python\n",
    "np.array(0) / np.array(0)\n",
    "np.array(0) // np.array(0)\n",
    "np.array([np.nan]).astype(int).astype(float)\n",
    "```"
   ]
  },
  {
   "cell_type": "code",
   "execution_count": null,
   "metadata": {},
   "outputs": [],
   "source": []
  },
  {
   "cell_type": "markdown",
   "metadata": {},
   "source": [
    "#### 29. How to round away from zero a float array ? (★☆☆)"
   ]
  },
  {
   "cell_type": "code",
   "execution_count": 35,
   "metadata": {},
   "outputs": [
    {
     "name": "stdout",
     "output_type": "stream",
     "text": [
      "[ -5. -10.  -9.   7.   9.  -2.   4.   4.  -8. -10.]\n"
     ]
    }
   ],
   "source": [
    "R = np.random.uniform(-10, +10, 10)\n",
    "print(np.copysign(np.ceil(np.abs(R)), R))"
   ]
  },
  {
   "cell_type": "markdown",
   "metadata": {},
   "source": [
    "#### 30. How to find common values between two arrays? (★☆☆)"
   ]
  },
  {
   "cell_type": "code",
   "execution_count": 36,
   "metadata": {},
   "outputs": [
    {
     "name": "stdout",
     "output_type": "stream",
     "text": [
      "[3 5 6 9]\n"
     ]
    }
   ],
   "source": [
    "Z1 = np.random.randint(0,10,10)\n",
    "Z2 = np.random.randint(0,10,10)\n",
    "print(np.intersect1d(Z1,Z2))"
   ]
  },
  {
   "cell_type": "code",
   "execution_count": null,
   "metadata": {},
   "outputs": [],
   "source": []
  }
 ],
 "metadata": {
  "kernelspec": {
   "display_name": "Python 3",
   "language": "python",
   "name": "python3"
  },
  "language_info": {
   "codemirror_mode": {
    "name": "ipython",
    "version": 3
   },
   "file_extension": ".py",
   "mimetype": "text/x-python",
   "name": "python",
   "nbconvert_exporter": "python",
   "pygments_lexer": "ipython3",
   "version": "3.8.8"
  },
  "toc": {
   "base_numbering": 1,
   "nav_menu": {},
   "number_sections": true,
   "sideBar": true,
   "skip_h1_title": false,
   "title_cell": "Table of Contents",
   "title_sidebar": "Contents",
   "toc_cell": false,
   "toc_position": {},
   "toc_section_display": true,
   "toc_window_display": false
  }
 },
 "nbformat": 4,
 "nbformat_minor": 2
}
