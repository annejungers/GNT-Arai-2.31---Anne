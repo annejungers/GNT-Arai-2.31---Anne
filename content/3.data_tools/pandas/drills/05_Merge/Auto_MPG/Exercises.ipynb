{
 "cells": [
  {
   "cell_type": "markdown",
   "metadata": {},
   "source": [
    "# MPG Cars"
   ]
  },
  {
   "cell_type": "markdown",
   "metadata": {},
   "source": [
    "### Introduction:\n",
    "\n",
    "The following exercise utilizes data from [UC Irvine Machine Learning Repository](https://archive.ics.uci.edu/ml/datasets/Auto+MPG)\n",
    "\n",
    "### Step 1. Import the necessary libraries"
   ]
  },
  {
   "cell_type": "code",
   "execution_count": 2,
   "metadata": {},
   "outputs": [],
   "source": [
    "import pandas as pd\n",
    "import numpy as np"
   ]
  },
  {
   "cell_type": "markdown",
   "metadata": {},
   "source": [
    "### Step 2. Import the first dataset [cars1](https://raw.githubusercontent.com/guipsamora/pandas_exercises/master/05_Merge/Auto_MPG/cars1.csv) and [cars2](https://raw.githubusercontent.com/guipsamora/pandas_exercises/master/05_Merge/Auto_MPG/cars2.csv).  "
   ]
  },
  {
   "cell_type": "markdown",
   "metadata": {},
   "source": [
    "   ### Step 3. Assign each to a variable called cars1 and cars2"
   ]
  },
  {
   "cell_type": "code",
   "execution_count": 3,
   "metadata": {},
   "outputs": [
    {
     "name": "stdout",
     "output_type": "stream",
     "text": [
      "    mpg  cylinders  displacement horsepower  weight  acceleration  model  \\\n",
      "0  18.0          8           307        130    3504          12.0     70   \n",
      "1  15.0          8           350        165    3693          11.5     70   \n",
      "2  18.0          8           318        150    3436          11.0     70   \n",
      "3  16.0          8           304        150    3433          12.0     70   \n",
      "4  17.0          8           302        140    3449          10.5     70   \n",
      "\n",
      "   origin                        car  Unnamed: 9  Unnamed: 10  Unnamed: 11  \\\n",
      "0       1  chevrolet chevelle malibu         NaN          NaN          NaN   \n",
      "1       1          buick skylark 320         NaN          NaN          NaN   \n",
      "2       1         plymouth satellite         NaN          NaN          NaN   \n",
      "3       1              amc rebel sst         NaN          NaN          NaN   \n",
      "4       1                ford torino         NaN          NaN          NaN   \n",
      "\n",
      "   Unnamed: 12  Unnamed: 13  \n",
      "0          NaN          NaN  \n",
      "1          NaN          NaN  \n",
      "2          NaN          NaN  \n",
      "3          NaN          NaN  \n",
      "4          NaN          NaN  \n",
      "    mpg  cylinders  displacement horsepower  weight  acceleration  model  \\\n",
      "0  33.0          4            91         53    1795          17.4     76   \n",
      "1  20.0          6           225        100    3651          17.7     76   \n",
      "2  18.0          6           250         78    3574          21.0     76   \n",
      "3  18.5          6           250        110    3645          16.2     76   \n",
      "4  17.5          6           258         95    3193          17.8     76   \n",
      "\n",
      "   origin                 car  \n",
      "0       3         honda civic  \n",
      "1       1      dodge aspen se  \n",
      "2       1   ford granada ghia  \n",
      "3       1  pontiac ventura sj  \n",
      "4       1       amc pacer d/l  \n"
     ]
    }
   ],
   "source": [
    "cars1 = pd.read_csv(\"https://raw.githubusercontent.com/guipsamora/pandas_exercises/master/05_Merge/Auto_MPG/cars1.csv\")\n",
    "cars2 = pd.read_csv(\"https://raw.githubusercontent.com/guipsamora/pandas_exercises/master/05_Merge/Auto_MPG/cars2.csv\")\n",
    "\n",
    "print(cars1.head())\n",
    "print(cars2.head())"
   ]
  },
  {
   "cell_type": "markdown",
   "metadata": {},
   "source": [
    "### Step 4. Oops, it seems our first dataset has some unnamed blank columns, fix cars1"
   ]
  },
  {
   "cell_type": "code",
   "execution_count": 4,
   "metadata": {},
   "outputs": [
    {
     "data": {
      "text/html": [
       "<div>\n",
       "<style scoped>\n",
       "    .dataframe tbody tr th:only-of-type {\n",
       "        vertical-align: middle;\n",
       "    }\n",
       "\n",
       "    .dataframe tbody tr th {\n",
       "        vertical-align: top;\n",
       "    }\n",
       "\n",
       "    .dataframe thead th {\n",
       "        text-align: right;\n",
       "    }\n",
       "</style>\n",
       "<table border=\"1\" class=\"dataframe\">\n",
       "  <thead>\n",
       "    <tr style=\"text-align: right;\">\n",
       "      <th></th>\n",
       "      <th>mpg</th>\n",
       "      <th>cylinders</th>\n",
       "      <th>displacement</th>\n",
       "      <th>horsepower</th>\n",
       "      <th>weight</th>\n",
       "      <th>acceleration</th>\n",
       "      <th>model</th>\n",
       "      <th>origin</th>\n",
       "      <th>car</th>\n",
       "    </tr>\n",
       "  </thead>\n",
       "  <tbody>\n",
       "    <tr>\n",
       "      <th>0</th>\n",
       "      <td>18.0</td>\n",
       "      <td>8</td>\n",
       "      <td>307</td>\n",
       "      <td>130</td>\n",
       "      <td>3504</td>\n",
       "      <td>12.0</td>\n",
       "      <td>70</td>\n",
       "      <td>1</td>\n",
       "      <td>chevrolet chevelle malibu</td>\n",
       "    </tr>\n",
       "    <tr>\n",
       "      <th>1</th>\n",
       "      <td>15.0</td>\n",
       "      <td>8</td>\n",
       "      <td>350</td>\n",
       "      <td>165</td>\n",
       "      <td>3693</td>\n",
       "      <td>11.5</td>\n",
       "      <td>70</td>\n",
       "      <td>1</td>\n",
       "      <td>buick skylark 320</td>\n",
       "    </tr>\n",
       "    <tr>\n",
       "      <th>2</th>\n",
       "      <td>18.0</td>\n",
       "      <td>8</td>\n",
       "      <td>318</td>\n",
       "      <td>150</td>\n",
       "      <td>3436</td>\n",
       "      <td>11.0</td>\n",
       "      <td>70</td>\n",
       "      <td>1</td>\n",
       "      <td>plymouth satellite</td>\n",
       "    </tr>\n",
       "    <tr>\n",
       "      <th>3</th>\n",
       "      <td>16.0</td>\n",
       "      <td>8</td>\n",
       "      <td>304</td>\n",
       "      <td>150</td>\n",
       "      <td>3433</td>\n",
       "      <td>12.0</td>\n",
       "      <td>70</td>\n",
       "      <td>1</td>\n",
       "      <td>amc rebel sst</td>\n",
       "    </tr>\n",
       "    <tr>\n",
       "      <th>4</th>\n",
       "      <td>17.0</td>\n",
       "      <td>8</td>\n",
       "      <td>302</td>\n",
       "      <td>140</td>\n",
       "      <td>3449</td>\n",
       "      <td>10.5</td>\n",
       "      <td>70</td>\n",
       "      <td>1</td>\n",
       "      <td>ford torino</td>\n",
       "    </tr>\n",
       "  </tbody>\n",
       "</table>\n",
       "</div>"
      ],
      "text/plain": [
       "    mpg  cylinders  displacement horsepower  weight  acceleration  model  \\\n",
       "0  18.0          8           307        130    3504          12.0     70   \n",
       "1  15.0          8           350        165    3693          11.5     70   \n",
       "2  18.0          8           318        150    3436          11.0     70   \n",
       "3  16.0          8           304        150    3433          12.0     70   \n",
       "4  17.0          8           302        140    3449          10.5     70   \n",
       "\n",
       "   origin                        car  \n",
       "0       1  chevrolet chevelle malibu  \n",
       "1       1          buick skylark 320  \n",
       "2       1         plymouth satellite  \n",
       "3       1              amc rebel sst  \n",
       "4       1                ford torino  "
      ]
     },
     "execution_count": 4,
     "metadata": {},
     "output_type": "execute_result"
    }
   ],
   "source": [
    "cars1 = cars1.loc[:, \"mpg\":\"car\"]\n",
    "cars1.head()"
   ]
  },
  {
   "cell_type": "markdown",
   "metadata": {},
   "source": [
    "### Step 5. What is the number of observations in each dataset?"
   ]
  },
  {
   "cell_type": "code",
   "execution_count": 5,
   "metadata": {},
   "outputs": [
    {
     "name": "stdout",
     "output_type": "stream",
     "text": [
      "(198, 9)\n",
      "(200, 9)\n"
     ]
    }
   ],
   "source": [
    "print(cars1.shape)\n",
    "print(cars2.shape)"
   ]
  },
  {
   "cell_type": "markdown",
   "metadata": {},
   "source": [
    "### Step 6. Join cars1 and cars2 into a single DataFrame called cars"
   ]
  },
  {
   "cell_type": "code",
   "execution_count": 19,
   "metadata": {},
   "outputs": [
    {
     "name": "stdout",
     "output_type": "stream",
     "text": [
      "      mpg  cylinders  displacement horsepower  weight  acceleration  model  \\\n",
      "0    18.0          8           307        130    3504          12.0     70   \n",
      "1    15.0          8           350        165    3693          11.5     70   \n",
      "2    18.0          8           318        150    3436          11.0     70   \n",
      "3    16.0          8           304        150    3433          12.0     70   \n",
      "4    17.0          8           302        140    3449          10.5     70   \n",
      "..    ...        ...           ...        ...     ...           ...    ...   \n",
      "195  27.0          4           140         86    2790          15.6     82   \n",
      "196  44.0          4            97         52    2130          24.6     82   \n",
      "197  32.0          4           135         84    2295          11.6     82   \n",
      "198  28.0          4           120         79    2625          18.6     82   \n",
      "199  31.0          4           119         82    2720          19.4     82   \n",
      "\n",
      "     origin                        car  \n",
      "0         1  chevrolet chevelle malibu  \n",
      "1         1          buick skylark 320  \n",
      "2         1         plymouth satellite  \n",
      "3         1              amc rebel sst  \n",
      "4         1                ford torino  \n",
      "..      ...                        ...  \n",
      "195       1            ford mustang gl  \n",
      "196       2                  vw pickup  \n",
      "197       1              dodge rampage  \n",
      "198       1                ford ranger  \n",
      "199       1                 chevy s-10  \n",
      "\n",
      "[398 rows x 9 columns]\n"
     ]
    }
   ],
   "source": [
    "cars = cars1.append(cars2)\n",
    "print(cars)"
   ]
  },
  {
   "cell_type": "markdown",
   "metadata": {},
   "source": [
    "### Step 7. Oops, there is a column missing, called owners. Create a random number Series from 15,000 to 73,000."
   ]
  },
  {
   "cell_type": "code",
   "execution_count": 10,
   "metadata": {},
   "outputs": [
    {
     "data": {
      "text/plain": [
       "array([46164, 15765, 32176, 34346, 41263, 61353, 31144, 61372, 61961,\n",
       "       44910, 64799, 45555, 53214, 63871, 25000, 38261, 21992, 60820,\n",
       "       34889, 45110, 49710, 58290, 44466, 33731, 60479, 24901, 19108,\n",
       "       17410, 20779, 56704, 41738, 26669, 43088, 32394, 66820, 33735,\n",
       "       40367, 39780, 28447, 32629, 70599, 71999, 30495, 20696, 15717,\n",
       "       52987, 52485, 29598, 16488, 64094, 44801, 58424, 68302, 51277,\n",
       "       25348, 30994, 25017, 42275, 52188, 21784, 19153, 71259, 22321,\n",
       "       54771, 38363, 57304, 18578, 22751, 65268, 29668, 41622, 49577,\n",
       "       30807, 30156, 17018, 60769, 58039, 46632, 36479, 37226, 37416,\n",
       "       61584, 69394, 20213, 30542, 38335, 47107, 30571, 23638, 52195,\n",
       "       18211, 42438, 71603, 46510, 46348, 37842, 49881, 34966, 24952,\n",
       "       49577, 69480, 35928, 33966, 51471, 27807, 45893, 71046, 23250,\n",
       "       19060, 68121, 55734, 64832, 46746, 44589, 27104, 71545, 31032,\n",
       "       23679, 28397, 65931, 17279, 67140, 70284, 22482, 32135, 37359,\n",
       "       51229, 47372, 20059, 72707, 27148, 26855, 38124, 52608, 48608,\n",
       "       46889, 37925, 26564, 51907, 53271, 41382, 63477, 52407, 48344,\n",
       "       24222, 28586, 60985, 34494, 59242, 72671, 19934, 36515, 39208,\n",
       "       31940, 58751, 31495, 67071, 59543, 33808, 20079, 55258, 28847,\n",
       "       72081, 68435, 16479, 65742, 46171, 57527, 55888, 23728, 37445,\n",
       "       60415, 63348, 27270, 58906, 23291, 72369, 62930, 16323, 39033,\n",
       "       35049, 40329, 25746, 66268, 51961, 39083, 57896, 21930, 67776,\n",
       "       39035, 42503, 51312, 59841, 57286, 27702, 29106, 45498, 40486,\n",
       "       47400, 42481, 50277, 70081, 35913, 59394, 45343, 31297, 28852,\n",
       "       53084, 56944, 49629, 32543, 40983, 42580, 60824, 16800, 68698,\n",
       "       58866, 62273, 70023, 57371, 22751, 57848, 71679, 16747, 58123,\n",
       "       41277, 51959, 68608, 61683, 51893, 60594, 29822, 45495, 70091,\n",
       "       54957, 64850, 60912, 24467, 22255, 25097, 54706, 41642, 66321,\n",
       "       40710, 32619, 16146, 27449, 48921, 22564, 19468, 68838, 63261,\n",
       "       63600, 66608, 31236, 41230, 42890, 32070, 58581, 40089, 57701,\n",
       "       40908, 16136, 28367, 50408, 19751, 29283, 64784, 41381, 72487,\n",
       "       26727, 16192, 60655, 68018, 60684, 34329, 61055, 67161, 43512,\n",
       "       61082, 32669, 25273, 31325, 66257, 37425, 27083, 44176, 61548,\n",
       "       49146, 25388, 39418, 15795, 69177, 20155, 48591, 46072, 53143,\n",
       "       24790, 17327, 48921, 37671, 16398, 20294, 72012, 55899, 52328,\n",
       "       57237, 35339, 70995, 67991, 69163, 52723, 41265, 58230, 32089,\n",
       "       64758, 15790, 52147, 56095, 18191, 22844, 25980, 28341, 56309,\n",
       "       27693, 55811, 65096, 46036, 53135, 69504, 66377, 27770, 71644,\n",
       "       37541, 58042, 67864, 32060, 57120, 15261, 18488, 58784, 46990,\n",
       "       47048, 42172, 64311, 20896, 38934, 36814, 21767, 33329, 53722,\n",
       "       49024, 17230, 65869, 53017, 15031, 29150, 29995, 20545, 42210,\n",
       "       44835, 28685, 44950, 30972, 46336, 48506, 26572, 52240, 43436,\n",
       "       44749, 57875, 27085, 60927, 33680, 61496, 54157, 60647, 58926,\n",
       "       25267, 19761, 39427, 19489, 60388, 31865, 45525, 27091, 53060,\n",
       "       63182, 57967, 51754, 71055, 25013, 64001, 17259, 47864, 67139,\n",
       "       24260, 48296])"
      ]
     },
     "execution_count": 10,
     "metadata": {},
     "output_type": "execute_result"
    }
   ],
   "source": [
    "\n",
    "nr_owners = np.random.randint(15000, high=73001, size=398, dtype='l')\n",
    "nr_owners"
   ]
  },
  {
   "cell_type": "markdown",
   "metadata": {},
   "source": [
    "### Step 8. Add the column owners to cars"
   ]
  },
  {
   "cell_type": "code",
   "execution_count": 20,
   "metadata": {},
   "outputs": [
    {
     "data": {
      "text/html": [
       "<div>\n",
       "<style scoped>\n",
       "    .dataframe tbody tr th:only-of-type {\n",
       "        vertical-align: middle;\n",
       "    }\n",
       "\n",
       "    .dataframe tbody tr th {\n",
       "        vertical-align: top;\n",
       "    }\n",
       "\n",
       "    .dataframe thead th {\n",
       "        text-align: right;\n",
       "    }\n",
       "</style>\n",
       "<table border=\"1\" class=\"dataframe\">\n",
       "  <thead>\n",
       "    <tr style=\"text-align: right;\">\n",
       "      <th></th>\n",
       "      <th>mpg</th>\n",
       "      <th>cylinders</th>\n",
       "      <th>displacement</th>\n",
       "      <th>horsepower</th>\n",
       "      <th>weight</th>\n",
       "      <th>acceleration</th>\n",
       "      <th>model</th>\n",
       "      <th>origin</th>\n",
       "      <th>car</th>\n",
       "      <th>owners</th>\n",
       "    </tr>\n",
       "  </thead>\n",
       "  <tbody>\n",
       "    <tr>\n",
       "      <th>195</th>\n",
       "      <td>27.0</td>\n",
       "      <td>4</td>\n",
       "      <td>140</td>\n",
       "      <td>86</td>\n",
       "      <td>2790</td>\n",
       "      <td>15.6</td>\n",
       "      <td>82</td>\n",
       "      <td>1</td>\n",
       "      <td>ford mustang gl</td>\n",
       "      <td>17259</td>\n",
       "    </tr>\n",
       "    <tr>\n",
       "      <th>196</th>\n",
       "      <td>44.0</td>\n",
       "      <td>4</td>\n",
       "      <td>97</td>\n",
       "      <td>52</td>\n",
       "      <td>2130</td>\n",
       "      <td>24.6</td>\n",
       "      <td>82</td>\n",
       "      <td>2</td>\n",
       "      <td>vw pickup</td>\n",
       "      <td>47864</td>\n",
       "    </tr>\n",
       "    <tr>\n",
       "      <th>197</th>\n",
       "      <td>32.0</td>\n",
       "      <td>4</td>\n",
       "      <td>135</td>\n",
       "      <td>84</td>\n",
       "      <td>2295</td>\n",
       "      <td>11.6</td>\n",
       "      <td>82</td>\n",
       "      <td>1</td>\n",
       "      <td>dodge rampage</td>\n",
       "      <td>67139</td>\n",
       "    </tr>\n",
       "    <tr>\n",
       "      <th>198</th>\n",
       "      <td>28.0</td>\n",
       "      <td>4</td>\n",
       "      <td>120</td>\n",
       "      <td>79</td>\n",
       "      <td>2625</td>\n",
       "      <td>18.6</td>\n",
       "      <td>82</td>\n",
       "      <td>1</td>\n",
       "      <td>ford ranger</td>\n",
       "      <td>24260</td>\n",
       "    </tr>\n",
       "    <tr>\n",
       "      <th>199</th>\n",
       "      <td>31.0</td>\n",
       "      <td>4</td>\n",
       "      <td>119</td>\n",
       "      <td>82</td>\n",
       "      <td>2720</td>\n",
       "      <td>19.4</td>\n",
       "      <td>82</td>\n",
       "      <td>1</td>\n",
       "      <td>chevy s-10</td>\n",
       "      <td>48296</td>\n",
       "    </tr>\n",
       "  </tbody>\n",
       "</table>\n",
       "</div>"
      ],
      "text/plain": [
       "      mpg  cylinders  displacement horsepower  weight  acceleration  model  \\\n",
       "195  27.0          4           140         86    2790          15.6     82   \n",
       "196  44.0          4            97         52    2130          24.6     82   \n",
       "197  32.0          4           135         84    2295          11.6     82   \n",
       "198  28.0          4           120         79    2625          18.6     82   \n",
       "199  31.0          4           119         82    2720          19.4     82   \n",
       "\n",
       "     origin              car  owners  \n",
       "195       1  ford mustang gl   17259  \n",
       "196       2        vw pickup   47864  \n",
       "197       1    dodge rampage   67139  \n",
       "198       1      ford ranger   24260  \n",
       "199       1       chevy s-10   48296  "
      ]
     },
     "execution_count": 20,
     "metadata": {},
     "output_type": "execute_result"
    }
   ],
   "source": [
    "\n",
    "\n",
    "cars['owners'] = nr_owners\n",
    "cars.tail()"
   ]
  },
  {
   "cell_type": "code",
   "execution_count": null,
   "metadata": {},
   "outputs": [],
   "source": []
  }
 ],
 "metadata": {
  "anaconda-cloud": {},
  "kernelspec": {
   "display_name": "Python 3",
   "language": "python",
   "name": "python3"
  },
  "language_info": {
   "codemirror_mode": {
    "name": "ipython",
    "version": 3
   },
   "file_extension": ".py",
   "mimetype": "text/x-python",
   "name": "python",
   "nbconvert_exporter": "python",
   "pygments_lexer": "ipython3",
   "version": "3.8.8"
  }
 },
 "nbformat": 4,
 "nbformat_minor": 1
}
