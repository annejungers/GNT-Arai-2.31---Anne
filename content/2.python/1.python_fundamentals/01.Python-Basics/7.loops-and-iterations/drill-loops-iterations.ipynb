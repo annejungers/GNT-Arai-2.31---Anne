{
 "cells": [
  {
   "cell_type": "markdown",
   "metadata": {},
   "source": [
    "# Drill loops and iterations"
   ]
  },
  {
   "cell_type": "markdown",
   "metadata": {},
   "source": [
    "### 1. Display all students in the \"students\" list in alphabetical order"
   ]
  },
  {
   "cell_type": "code",
   "execution_count": 5,
   "metadata": {},
   "outputs": [
    {
     "name": "stdout",
     "output_type": "stream",
     "text": [
      "['Adrien', 'Axel', 'Baptiste', 'Caroline', 'Joe', 'Mathieu', 'Merouane', 'Nathan', 'Raphaël', 'Sophie']\n"
     ]
    }
   ],
   "source": [
    "students = [\"Merouane\", \"Baptiste\", \"Caroline\", \"Joe\", \"Sophie\", \"Nathan\", \"Raphaël\", \"Axel\", \"Mathieu\", \"Adrien\"]\n",
    "sorted_students = sorted(students)\n",
    "print(sorted_students)\n"
   ]
  },
  {
   "cell_type": "markdown",
   "metadata": {},
   "source": [
    "### 2. Display only those whose first name begins with the letter M"
   ]
  },
  {
   "cell_type": "code",
   "execution_count": 2,
   "metadata": {},
   "outputs": [
    {
     "name": "stdout",
     "output_type": "stream",
     "text": [
      "['Merouane', 'Mathieu']\n"
     ]
    }
   ],
   "source": [
    "students = [\"Merouane\", \"Baptiste\", \"Caroline\", \"Joe\", \"Sophie\", \"Nathan\", \"Raphaël\", \"Axel\", \"Mathieu\", \"Adrien\"]\n",
    "\n",
    "newlist_M = []\n",
    "\n",
    "for x in students:\n",
    "    if \"M\" in x:\n",
    "        newlist_M.append(x)\n",
    "        \n",
    "print(newlist_M)\n",
    "\n",
    "#you can also use list comprehension\n",
    "#newlist = [x for x in fruits if \"a\" in x] "
   ]
  },
  {
   "cell_type": "markdown",
   "metadata": {},
   "source": [
    "### 3. Display integers from 0 to 15 not included, using a `for` loop and the `range()` instruction."
   ]
  },
  {
   "cell_type": "code",
   "execution_count": 2,
   "metadata": {},
   "outputs": [
    {
     "name": "stdout",
     "output_type": "stream",
     "text": [
      "0\n",
      "1\n",
      "2\n",
      "3\n",
      "4\n",
      "5\n",
      "6\n",
      "7\n",
      "8\n",
      "9\n",
      "10\n",
      "11\n",
      "12\n",
      "13\n",
      "14\n"
     ]
    }
   ],
   "source": [
    "for x in range(15):\n",
    "    print(x)"
   ]
  },
  {
   "cell_type": "markdown",
   "metadata": {},
   "source": [
    "### 4. Use the `break` instruction to interrupt a `for` loop to display integers from 1 to 10 included, when the loop variable is 5"
   ]
  },
  {
   "cell_type": "code",
   "execution_count": 5,
   "metadata": {},
   "outputs": [
    {
     "name": "stdout",
     "output_type": "stream",
     "text": [
      "0\n",
      "1\n",
      "2\n",
      "3\n",
      "4\n",
      "5\n"
     ]
    }
   ],
   "source": [
    "for i in range(11):\n",
    "    print(i)\n",
    "    if i == 5:\n",
    "        break"
   ]
  },
  {
   "cell_type": "markdown",
   "metadata": {},
   "source": [
    "### 5. Use the `continue` instruction to modify a `for` loop to display intergers from 1 to 10 included,  when the loop variable is 5"
   ]
  },
  {
   "cell_type": "code",
   "execution_count": 11,
   "metadata": {},
   "outputs": [
    {
     "name": "stdout",
     "output_type": "stream",
     "text": [
      "0\n",
      "1\n",
      "2\n",
      "3\n",
      "4\n",
      "5\n",
      "6\n",
      "7\n",
      "8\n",
      "9\n",
      "10\n"
     ]
    }
   ],
   "source": [
    "for i in range(11):\n",
    "    print(i)\n",
    "    if i == 5:\n",
    "        continue\n",
    "  "
   ]
  },
  {
   "cell_type": "markdown",
   "metadata": {},
   "source": [
    "### 6. Follow the instructions :"
   ]
  },
  {
   "cell_type": "markdown",
   "metadata": {},
   "source": [
    "- sort and display the list;\n",
    "    - Output expected: `[10, 17, 25, 38, 72]`\n",
    "- add item 12 to the list and display the list;\n",
    "    - Output expected: `[17, 38, 10, 25, 72, 12]`\n",
    "- reverse and display the list;\n",
    "    - Output expected: `[12, 72, 25, 10, 38, 17]`\n",
    "- display the index of element 17;\n",
    "    - Output expected: `5`\n",
    "- remove item 38 and display the list;\n",
    "    - Output expected: `[12, 72, 25, 10, 17]`\n",
    "- display the sub-list of the 2nd to 3rd element;\n",
    "    - Output expected: `[72, 25]`\n",
    "- display the sub-list from the beginning to the 2nd element;\n",
    "    - Output expected: `[12, 72]`\n",
    "- display the sub-list of the 3rd element at the end of the list;\n",
    "    - Output expected: `[25, 10, 17]`\n",
    "- display the complete sub-list of the list;\n",
    "    - Output expected: `[12, 72, 25, 10, 17]`\n",
    "- display the last element using a negative indication.\n",
    "    - Output expected: `[17]`"
   ]
  },
  {
   "cell_type": "markdown",
   "metadata": {},
   "source": [
    "#### list_of_num = [17, 38, 10, 25, 72]\n",
    "\n",
    "# sort and display the list;\n",
    "#Output expected: [10, 17, 25, 38, 72]\n",
    "\n",
    "list_of_num = [17, 38, 10, 25, 72]\n",
    "sorted_list = sorted(list_of_num)\n",
    "print(sorted_list)\n",
    "\n",
    "#add item 12 to the list and display the list;\n",
    "#Output expected: [17, 38, 10, 25, 72, 12]\n",
    "\n",
    "list_of_num = [17, 38, 10, 25, 72]\n",
    "list_of_num.append(12)\n",
    "print(list_of_num)\n",
    "\n",
    "\n",
    "#reverse and display the list;\n",
    "Output expected: [12, 72, 25, 10, 38, 17]\n",
    "\n",
    "reverse_list_of_num = list_of_num [::-1]\n",
    "print(reverse_list_of_num)\n",
    "\n",
    "\n",
    "#display the index of element 17;\n",
    "#Output expected: 5\n",
    "#index = mylist.index(element)\n",
    "#index = mylist.index(x, [start[,end]])\n",
    "\n",
    "reverse_list_of_num = [12, 72, 25, 10, 38, 17]\n",
    "index = reverse_list_of_num.index(17)\n",
    "print(index)\n",
    "5\n",
    "\n",
    "#remove item 38 and display the list;\n",
    "#Output expected: [12, 72, 25, 10, 17]\n",
    "reverse_list_of_num = [12, 72, 25, 10, 38, 17]\n",
    "reverse_list_of_num.remove(38)\n",
    "print(reverse_list_of_num)\n",
    "[12, 72, 25, 10, 17]\n",
    "\n",
    "#display the sub-list of the 2nd to 3rd element;\n",
    "#Output expected: [72, 25]\n",
    "\n",
    "reverse_list_of_num = [12, 72, 25, 10, 38, 17]\n",
    "print(reverse_list_of_num [1:3])\n",
    "[72, 25]\n",
    "\n",
    "\n",
    "#display the sub-list from the beginning to the 2nd element;\n",
    "#Output expected: [12, 72]\n",
    "\n",
    "reverse_list_of_num = [12, 72, 25, 10, 38, 17]\n",
    "print(reverse_list_of_num [:3])\n",
    "[12, 72, 25]\n",
    "\n",
    "\n",
    "#display the sub-list of the 3rd element at the end of the list;\n",
    "#Output expected: [25, 10, 17]\n",
    "\n",
    "reverse_list_of_num = [12, 72, 25, 10, 38, 17]\n",
    "print(reverse_list_of_num [2:])\n",
    "[25, 10, 38, 17]\n",
    "\n",
    "\n",
    "#display the complete sub-list of the list;\n",
    "#Output expected: [12, 72, 25, 10, 17]\n",
    "\n",
    "def sub_lists (l):\n",
    "    lists = [[]]\n",
    "    for i in range(len(l) + 1):\n",
    "        for j in range(i):\n",
    "            lists.append(l[j: i])\n",
    "    return lists\n",
    " \n",
    "# driver code\n",
    "reverse_list_of_num = [12, 72, 25, 10, 38, 17]\n",
    "print(sub_lists(reverse_list_of_num))\n",
    "\n",
    "[[], [12], [12, 72], [72], [12, 72, 25], [72, 25], [25], [12, 72, 25, 10],\n",
    "[72, 25, 10], [25, 10], [10], [12, 72, 25, 10, 38], [72, 25, 10, 38], [25, 10, 38],\n",
    " [10, 38], [38], [12, 72, 25, 10, 38, 17], [72, 25, 10, 38, 17], [25, 10, 38, 17],\n",
    " [10, 38, 17], [38, 17], [17]]\n",
    "\n",
    "\n",
    "\n",
    "#display the last element using a negative indication.\n",
    "#Output expected: [17]\n",
    "\n",
    "reverse_list_of_num = [12, 72, 25, 10, 38, 17]\n",
    "print(reverse_list_of_num [-1])\n",
    "17\n",
    "\n",
    "#!!!\n",
    "print(reverse_list_of_num [-1:])\n",
    " [17]"
   ]
  },
  {
   "cell_type": "markdown",
   "metadata": {},
   "source": []
  },
  {
   "cell_type": "markdown",
   "metadata": {},
   "source": [
    "### 7. Write an algorithm that:\n",
    "1. Asks the user to enter a number.\n",
    "2. Make sure that your program displays all the numbers up to 0, for example, if the user enters the number 3, then your program will display something like this: `3,2,1,0`"
   ]
  },
  {
   "cell_type": "code",
   "execution_count": 18,
   "metadata": {},
   "outputs": [
    {
     "name": "stdout",
     "output_type": "stream",
     "text": [
      "Enter a number6\n",
      "1\n",
      "2\n",
      "3\n",
      "4\n",
      "5\n",
      "6\n"
     ]
    }
   ],
   "source": [
    "number = int(input(\"Enter a number\"))\n",
    "for x in range(number):\n",
    "    x +=1\n",
    "    print(x)"
   ]
  },
  {
   "cell_type": "markdown",
   "metadata": {},
   "source": [
    "### 8.The price is right ! \n",
    "- Create a variable that will contain the number to be found. \n",
    "- Then create a function that will ask the user to find this price (asking for a number). \n",
    "- If the user enters a number that is too high, he will have the sentence: \"It's less\". \n",
    "- If he enters a number that is too low, he will have the sentence: \"It's more\". \n",
    "- If the user finds the right price he will have the sentence: \"Well done, you won\"."
   ]
  },
  {
   "cell_type": "code",
   "execution_count": null,
   "metadata": {
    "collapsed": true
   },
   "outputs": [],
   "source": [
    "\n",
    "def asking_for_a_number:\n",
    "    x= int(input(number to find the price))\n",
    "    if x >= 20:\n",
    "        print(\"It's less\")\n",
    "        if"
   ]
  },
  {
   "cell_type": "markdown",
   "metadata": {},
   "source": [
    "### 9. Display all students with the sentence \"NAME is a alumni. \""
   ]
  },
  {
   "cell_type": "code",
   "execution_count": 19,
   "metadata": {},
   "outputs": [
    {
     "name": "stdout",
     "output_type": "stream",
     "text": [
      " David is an alumni\n",
      " Justine is an alumni\n",
      " Valentin is an alumni\n",
      " Axel is an alumni\n",
      " Redouane is an alumni\n",
      " Julie is an alumni\n",
      " Stéphane is an alumni\n",
      " Mostapha is an alumni\n",
      " Claudiu is an alumni\n",
      " Son is an alumni\n"
     ]
    }
   ],
   "source": [
    "allStudents =  [[\"David\", \"Justine\", \"Valentin\",\"Axel\", \"Redouane\"], [\"Julie\", \"Stéphane\", \"Mostapha\", \"Claudiu\", \"Son\"]]\n",
    "for x in range(0, len(allStudents)):\n",
    "    for y in range(len(allStudents [x])):\n",
    "        print(f\" {allStudents [x] [y]} is an alumni\")\n",
    "        \n",
    "#Minh's solution above, not sure the code is perfect written\n",
    "#other solution\n",
    "# for x in allStudents:\n",
    "#    for y in x:\n",
    "#        print(f\"{y} is an alumni)\n",
    "# don't work I think??? \n",
    "    "
   ]
  },
  {
   "cell_type": "markdown",
   "metadata": {},
   "source": [
    "### 10. Display all elements. If the element is part of the first table display - \"*PHP* is a backend language\" - and if the element is part of the second language, display - \"*HTML* is a Frontend language\" ... "
   ]
  },
  {
   "cell_type": "code",
   "execution_count": 5,
   "metadata": {},
   "outputs": [
    {
     "name": "stdout",
     "output_type": "stream",
     "text": [
      "PHPis a Backend language\n",
      "Javais a Backend language\n",
      "C#is a Backend language\n",
      "HTMLis a Frontend language\n",
      "CSSis a Frontend language\n",
      "Javascriptis a Frontend language\n"
     ]
    }
   ],
   "source": [
    "languages = [[\"PHP\", \"Java\", \"C#\"], [\"HTML\", \"CSS\", \"Javascript\"]]\n",
    "\n",
    "for i in range(len(languages)):\n",
    "    for j in range(len(languages[i])):\n",
    "        if i > 0:\n",
    "            print(languages [i][j] + \"is a Frontend language\")\n",
    "        else:\n",
    "            print(languages [i][j] + \"is a Backend language\")"
   ]
  },
  {
   "cell_type": "markdown",
   "metadata": {},
   "source": [
    "## [Next one](../8.everything-is-object/everything-is-object.ipynb)"
   ]
  }
 ],
 "metadata": {
  "kernelspec": {
   "display_name": "Python 3",
   "language": "python",
   "name": "python3"
  },
  "language_info": {
   "codemirror_mode": {
    "name": "ipython",
    "version": 3
   },
   "file_extension": ".py",
   "mimetype": "text/x-python",
   "name": "python",
   "nbconvert_exporter": "python",
   "pygments_lexer": "ipython3",
   "version": "3.8.8"
  }
 },
 "nbformat": 4,
 "nbformat_minor": 2
}
